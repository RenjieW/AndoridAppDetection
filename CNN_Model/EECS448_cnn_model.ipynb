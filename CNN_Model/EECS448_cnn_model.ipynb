{
  "nbformat": 4,
  "nbformat_minor": 0,
  "metadata": {
    "colab": {
      "name": "EECS448_cnn_model.ipynb",
      "version": "0.3.2",
      "provenance": [],
      "collapsed_sections": [],
      "toc_visible": true
    },
    "kernelspec": {
      "name": "python3",
      "display_name": "Python 3"
    }
  },
  "cells": [
    {
      "cell_type": "markdown",
      "metadata": {
        "id": "J-vV_GI_FM7q",
        "colab_type": "text"
      },
      "source": [
        "# The CNN Model "
      ]
    },
    {
      "cell_type": "markdown",
      "metadata": {
        "id": "41GATdOWFarR",
        "colab_type": "text"
      },
      "source": [
        "## Import necessary packages\n",
        "\n",
        "\n"
      ]
    },
    {
      "cell_type": "code",
      "metadata": {
        "id": "2riczFaWfYPZ",
        "colab_type": "code",
        "outputId": "96058139-510f-4ed7-ef96-592026340700",
        "colab": {
          "base_uri": "https://localhost:8080/",
          "height": 35
        }
      },
      "source": [
        "import tensorflow as tf\n",
        "import numpy as np\n",
        "from tensorflow import keras\n",
        "from keras.utils import plot_model\n",
        "from keras.models import Sequential\n",
        "from keras.layers import Conv2D, MaxPooling2D\n",
        "from keras.layers import Activation, Dropout, Flatten, Dense\n",
        "import matplotlib.pyplot as plt\n",
        "import functools\n",
        "from keras import backend as K\n",
        "from skimage import io\n",
        "\n",
        "import os\n",
        "import cv2\n",
        "import gc\n",
        "import time"
      ],
      "execution_count": 0,
      "outputs": [
        {
          "output_type": "stream",
          "text": [
            "Using TensorFlow backend.\n"
          ],
          "name": "stderr"
        }
      ]
    },
    {
      "cell_type": "code",
      "metadata": {
        "id": "cv1mVCCdriXG",
        "colab_type": "code",
        "outputId": "bcbbd073-0bb8-4847-b25a-64eb9821d12d",
        "colab": {
          "base_uri": "https://localhost:8080/",
          "height": 285
        }
      },
      "source": [
        "os.system('unzip img_benign.zip')\n",
        "os.system('unzip img_genome.zip')\n",
        "\n",
        "size_list = []\n",
        "for filename in os.listdir(r\"./img_benign/\"):\n",
        "  #print(filename)   \n",
        "  img = cv2.imread('./img_benign/' + filename, 1)\n",
        "  if img is None:\n",
        "    continue\n",
        "  \n",
        "  size_list.append(img.shape[0])\n",
        "  \n",
        "for filename in os.listdir(r\"./img_genome/\"):\n",
        "  #print(filename)   \n",
        "  img = cv2.imread('./img_genome/' + filename, 1)\n",
        "  if img is None:\n",
        "    continue\n",
        "    \n",
        "  size_list.append(img.shape[0])\n",
        "    \n",
        "plt.figure()\n",
        "plt.hist(size_list, bins=20, facecolor=\"blue\", edgecolor=\"black\", alpha=0.7)\n",
        "plt.xlabel('Size range')\n",
        "plt.ylabel('Number')\n",
        "plt.show()"
      ],
      "execution_count": 0,
      "outputs": [
        {
          "output_type": "display_data",
          "data": {
            "image/png": "[encoded data removed]",
            "text/plain": [
              "<Figure size 432x288 with 1 Axes>"
            ]
          },
          "metadata": {
            "tags": []
          }
        }
      ]
    },
    {
      "cell_type": "markdown",
      "metadata": {
        "id": "18ggWhG4FpgI",
        "colab_type": "text"
      },
      "source": [
        "## Data preprocessing"
      ]
    },
    {
      "cell_type": "markdown",
      "metadata": {
        "id": "53nMqDF3FsF_",
        "colab_type": "text"
      },
      "source": [
        "### Read RGB images and normalize all those images"
      ]
    },
    {
      "cell_type": "code",
      "metadata": {
        "id": "zCsedBJZffpf",
        "colab_type": "code",
        "outputId": "4b4a5fd8-252e-4dc1-9613-65de11d1eec6",
        "colab": {
          "base_uri": "https://localhost:8080/",
          "height": 34
        }
      },
      "source": [
        "benign_img_list = []\n",
        "for filename in os.listdir(r\"./img_benign/\"):\n",
        "  #print(filename)   \n",
        "  img = cv2.imread('./img_benign/' + filename, 1)\n",
        "  if img is None:\n",
        "    continue\n",
        "  \n",
        "  # resize to 300*300 size\n",
        "  img = cv2.resize(img, (300, 300)) \n",
        "  # normalize to 0~1\n",
        "  img = img / 255.0\n",
        "  benign_img_list.append(img)\n",
        "\n",
        "benign_img_list = np.array(benign_img_list)  \n",
        "print(benign_img_list.shape)\n",
        "benign_len = benign_img_list.shape[0]"
      ],
      "execution_count": 0,
      "outputs": [
        {
          "output_type": "stream",
          "text": [
            "(1386, 300, 300, 3)\n"
          ],
          "name": "stdout"
        }
      ]
    },
    {
      "cell_type": "code",
      "metadata": {
        "id": "SquBDPg2_WZ4",
        "colab_type": "code",
        "outputId": "9f75a259-9338-4e22-9abc-2ef69bfc8304",
        "colab": {
          "base_uri": "https://localhost:8080/",
          "height": 34
        }
      },
      "source": [
        "genome_img_list = []\n",
        "for filename in os.listdir(r\"./img_genome/\"):\n",
        "  #print(filename)   \n",
        "  img = cv2.imread('./img_genome/' + filename, 1)\n",
        "  if img is None:\n",
        "    continue\n",
        "    \n",
        "  img = cv2.resize(img, (300, 300)) \n",
        "  img = img / 255.0\n",
        "  genome_img_list.append(img)\n",
        "\n",
        "genome_img_list = np.array(genome_img_list)  \n",
        "print(genome_img_list.shape)\n",
        "genome_len = genome_img_list.shape[0]"
      ],
      "execution_count": 0,
      "outputs": [
        {
          "output_type": "stream",
          "text": [
            "(1260, 300, 300, 3)\n"
          ],
          "name": "stdout"
        }
      ]
    },
    {
      "cell_type": "markdown",
      "metadata": {
        "id": "-FdMR_RjGvhl",
        "colab_type": "text"
      },
      "source": [
        "### Split them to training and testing set"
      ]
    },
    {
      "cell_type": "code",
      "metadata": {
        "id": "m3ZLxgLpxjbn",
        "colab_type": "code",
        "outputId": "d8c8d40c-2f34-44ab-85cb-1d6bac6a1572",
        "colab": {
          "base_uri": "https://localhost:8080/",
          "height": 68
        }
      },
      "source": [
        "testing_set = np.concatenate((benign_img_list[1000:], genome_img_list[1000:]), axis=0)\n",
        "print(testing_set.shape)\n",
        "\n",
        "testing_label = np.array([0]*(benign_len-1000) + [1]*(genome_len-1000))\n",
        "\n",
        "training_set = np.concatenate((benign_img_list[0:1000], genome_img_list[0:1000]), axis=0)\n",
        "print(training_set.shape)\n",
        "\n",
        "training_label = np.array([0]*1000 + [1]*1000)\n",
        "\n",
        "del benign_img_list\n",
        "del genome_img_list\n",
        "gc.collect()"
      ],
      "execution_count": 0,
      "outputs": [
        {
          "output_type": "stream",
          "text": [
            "(646, 300, 300, 3)\n",
            "(2000, 300, 300, 3)\n"
          ],
          "name": "stdout"
        },
        {
          "output_type": "execute_result",
          "data": {
            "text/plain": [
              "209"
            ]
          },
          "metadata": {
            "tags": []
          },
          "execution_count": 5
        }
      ]
    },
    {
      "cell_type": "markdown",
      "metadata": {
        "id": "c_ao1yeaHI3D",
        "colab_type": "text"
      },
      "source": [
        "### Shuffle the training set"
      ]
    },
    {
      "cell_type": "code",
      "metadata": {
        "id": "hK4X0zR3Cjbl",
        "colab_type": "code",
        "outputId": "984d2f4a-3841-45fb-ce6a-0981b67bc7ee",
        "colab": {
          "base_uri": "https://localhost:8080/",
          "height": 34
        }
      },
      "source": [
        "order = np.argsort(np.random.random(training_label.shape[0]))\n",
        "training_set[order]\n",
        "training_label[order]\n",
        "# print(training_label)"
      ],
      "execution_count": 0,
      "outputs": [
        {
          "output_type": "execute_result",
          "data": {
            "text/plain": [
              "array([1, 0, 1, ..., 0, 1, 1])"
            ]
          },
          "metadata": {
            "tags": []
          },
          "execution_count": 6
        }
      ]
    },
    {
      "cell_type": "code",
      "metadata": {
        "id": "f4j9FxQUb70_",
        "colab_type": "code",
        "colab": {}
      },
      "source": [
        "# index = np.where(training_label==0)\n",
        "# print(index)\n",
        "# print(len(index[0]))"
      ],
      "execution_count": 0,
      "outputs": []
    },
    {
      "cell_type": "markdown",
      "metadata": {
        "id": "EmWQM5fkHQkm",
        "colab_type": "text"
      },
      "source": [
        "## Build the CNN model"
      ]
    },
    {
      "cell_type": "markdown",
      "metadata": {
        "id": "6DnhkElKHvHU",
        "colab_type": "text"
      },
      "source": [
        "### Functions to build the topology of CNN and plot the training history"
      ]
    },
    {
      "cell_type": "code",
      "metadata": {
        "id": "xnnizQT_PdQ3",
        "colab_type": "code",
        "colab": {}
      },
      "source": [
        "def build_model(input_shape, optimizer):\n",
        "  model = Sequential()\n",
        "  model.add(Conv2D(filters=32, kernel_size=(3, 3), input_shape=input_shape, activation='relu'))\n",
        "  model.add(MaxPooling2D(pool_size=(2, 2)))\n",
        "\n",
        "  model.add(Conv2D(32, (3, 3)))\n",
        "  model.add(Activation('relu'))\n",
        "  model.add(MaxPooling2D(pool_size=(2, 2)))\n",
        "\n",
        "  model.add(Conv2D(64, (3, 3)))\n",
        "  model.add(Activation('relu'))\n",
        "  model.add(MaxPooling2D(pool_size=(2, 2)))\n",
        "\n",
        "  model.add(Flatten())\n",
        "  model.add(Dense(64))\n",
        "  model.add(Activation('relu'))\n",
        "  model.add(Dropout(0.5))\n",
        "  # model.add(Dense(2))\n",
        "  # model.add(Activation('softmax'))\n",
        "  model.add(Dense(1))\n",
        "  model.add(Activation('sigmoid'))\n",
        "\n",
        "  model.compile(loss='binary_crossentropy',\n",
        "                optimizer=optimizer,\n",
        "                metrics=['accuracy']) \n",
        "  \n",
        "  return model\n"
      ],
      "execution_count": 0,
      "outputs": []
    },
    {
      "cell_type": "markdown",
      "metadata": {
        "id": "6qKZxlqGHa30",
        "colab_type": "text"
      },
      "source": [
        "Plot the training history, accuracy vs. epoch"
      ]
    },
    {
      "cell_type": "code",
      "metadata": {
        "id": "mqv1vFg6OY22",
        "colab_type": "code",
        "colab": {}
      },
      "source": [
        "def plot_history(history):\n",
        "  plt.figure()\n",
        "  plt.xlabel('Epoch')\n",
        "  plt.ylabel('accuracy')\n",
        "  plt.plot(history.epoch, np.array(history.history['acc']),\n",
        "           label='Train Acc')\n",
        "  plt.plot(history.epoch, np.array(history.history['val_acc']),\n",
        "           label = 'Val Acc')\n",
        "#   plt.plot(history.epoch, np.array(history.history['loss']),\n",
        "#            label='Train Loss')\n",
        "#   plt.plot(history.epoch, np.array(history.history['val_loss']),\n",
        "#            label = 'Val loss')\n",
        "  plt.legend()\n",
        "  plt.ylim([0, 1])"
      ],
      "execution_count": 0,
      "outputs": []
    },
    {
      "cell_type": "markdown",
      "metadata": {
        "id": "k5nTT6DAHiAn",
        "colab_type": "text"
      },
      "source": [
        ""
      ]
    },
    {
      "cell_type": "code",
      "metadata": {
        "id": "LSFN5aoz8bYC",
        "colab_type": "code",
        "colab": {}
      },
      "source": [
        "def plot_comparison(history_sgd, history_adam, hisotry_rmsprop):\n",
        "  plt.figure()\n",
        "  plt.xlabel('Epoch')\n",
        "  plt.ylabel('accuracy')\n",
        "#   plt.plot(history_sgd.epoch, np.array(history_sgd.history['acc']), label='SGD acc')\n",
        "#   plt.plot(history_adam.epoch, np.array(history_adam.history['acc']), label='Adam acc')\n",
        "#   plt.plot(history_rmsprop.epoch, np.array(history_rmsprop.history['acc']), label='RMSProp acc')\n",
        "\n",
        "  plt.plot(history_sgd.epoch, np.array(history_sgd.history['val_acc']), label='SGD val_acc', linestyle='--')\n",
        "  plt.plot(history_adam.epoch, np.array(history_adam.history['val_acc']), label='Adam val_acc', linestyle='--')\n",
        "  plt.plot(history_rmsprop.epoch, np.array(history_rmsprop.history['val_acc']), label='RMSProp val_acc', linestyle='--')\n",
        "\n",
        "  plt.legend()\n",
        "  plt.ylim([0, 1])\n",
        "  \n",
        "  plt.figure()\n",
        "  plt.xlabel('Epoch')\n",
        "  plt.ylabel('accuracy')\n",
        "  plt.plot(history_sgd.epoch, np.array(history_sgd.history['acc']), label='SGD acc')\n",
        "  plt.plot(history_adam.epoch, np.array(history_adam.history['acc']), label='Adam acc')\n",
        "  plt.plot(history_rmsprop.epoch, np.array(history_rmsprop.history['acc']), label='RMSProp acc')\n",
        "  plt.legend()\n",
        "  plt.ylim([0, 1])"
      ],
      "execution_count": 0,
      "outputs": []
    },
    {
      "cell_type": "markdown",
      "metadata": {
        "id": "mPvem0AkIfMX",
        "colab_type": "text"
      },
      "source": [
        "### Train the CNN model\n",
        "Set the upperbound of epochs which is 50 \\\\\n",
        "Set the batch size as 16 \\\\\n",
        "Set the early stop condition that once the accuracy of validation set stops increasing after 3 epochs, the training will terminate"
      ]
    },
    {
      "cell_type": "code",
      "metadata": {
        "id": "AnLyosSmG1Pn",
        "colab_type": "code",
        "outputId": "81ceb599-68b9-4487-a80f-abd47582298f",
        "colab": {
          "base_uri": "https://localhost:8080/",
          "height": 983
        }
      },
      "source": [
        "img_width, img_height = 300, 300\n",
        "\n",
        "nb_train_samples = 2000\n",
        "#nb_validation_samples = 800\n",
        "epochs = 50\n",
        "batch_size = 16\n",
        "\n",
        "if K.image_data_format() == 'channels_first':\n",
        "    input_shape = (3, img_width, img_height)\n",
        "else:\n",
        "    input_shape = (img_width, img_height, 3)\n",
        "\n",
        "model = build_model(input_shape, 'rmsprop')\n",
        "\n",
        "early_stop = keras.callbacks.EarlyStopping(monitor='val_acc', patience=3, restore_best_weights=True)\n",
        "\n",
        "history = model.fit(\n",
        "    training_set,\n",
        "    training_label,\n",
        "    batch_size=batch_size, \n",
        "    epochs=epochs,\n",
        "    validation_split=0.2,\n",
        "    callbacks=[early_stop]\n",
        "    )\n",
        "\n",
        "plot_history(history)"
      ],
      "execution_count": 0,
      "outputs": [
        {
          "output_type": "stream",
          "text": [
            "WARNING:tensorflow:From /usr/local/lib/python3.6/dist-packages/tensorflow/python/framework/op_def_library.py:263: colocate_with (from tensorflow.python.framework.ops) is deprecated and will be removed in a future version.\n",
            "Instructions for updating:\n",
            "Colocations handled automatically by placer.\n",
            "WARNING:tensorflow:From /usr/local/lib/python3.6/dist-packages/keras/backend/tensorflow_backend.py:3445: calling dropout (from tensorflow.python.ops.nn_ops) with keep_prob is deprecated and will be removed in a future version.\n",
            "Instructions for updating:\n",
            "Please use `rate` instead of `keep_prob`. Rate should be set to `rate = 1 - keep_prob`.\n",
            "WARNING:tensorflow:From /usr/local/lib/python3.6/dist-packages/tensorflow/python/ops/math_ops.py:3066: to_int32 (from tensorflow.python.ops.math_ops) is deprecated and will be removed in a future version.\n",
            "Instructions for updating:\n",
            "Use tf.cast instead.\n",
            "Train on 1600 samples, validate on 400 samples\n",
            "Epoch 1/50\n",
            "1600/1600 [==============================] - 274s 171ms/step - loss: 1.0766 - acc: 0.6500 - val_loss: 0.6858 - val_acc: 0.6350\n",
            "Epoch 2/50\n",
            "1600/1600 [==============================] - 269s 168ms/step - loss: 0.5326 - acc: 0.7450 - val_loss: 0.5415 - val_acc: 0.7200\n",
            "Epoch 3/50\n",
            "1600/1600 [==============================] - 268s 167ms/step - loss: 0.4574 - acc: 0.8056 - val_loss: 0.6086 - val_acc: 0.6675\n",
            "Epoch 4/50\n",
            "1600/1600 [==============================] - 268s 168ms/step - loss: 0.3849 - acc: 0.8456 - val_loss: 0.4734 - val_acc: 0.7775\n",
            "Epoch 5/50\n",
            "1600/1600 [==============================] - 267s 167ms/step - loss: 0.3554 - acc: 0.8662 - val_loss: 0.6211 - val_acc: 0.7225\n",
            "Epoch 6/50\n",
            "1600/1600 [==============================] - 268s 168ms/step - loss: 0.3176 - acc: 0.8875 - val_loss: 0.5910 - val_acc: 0.7575\n",
            "Epoch 7/50\n",
            "1600/1600 [==============================] - 268s 167ms/step - loss: 0.2500 - acc: 0.9087 - val_loss: 0.5393 - val_acc: 0.8125\n",
            "Epoch 8/50\n",
            "1600/1600 [==============================] - 265s 166ms/step - loss: 0.2100 - acc: 0.9306 - val_loss: 0.6631 - val_acc: 0.7550\n",
            "Epoch 9/50\n",
            "1600/1600 [==============================] - 268s 168ms/step - loss: 0.1833 - acc: 0.9394 - val_loss: 0.7074 - val_acc: 0.8025\n",
            "Epoch 10/50\n",
            "1600/1600 [==============================] - 269s 168ms/step - loss: 0.1348 - acc: 0.9581 - val_loss: 0.5975 - val_acc: 0.8325\n",
            "Epoch 11/50\n",
            "1600/1600 [==============================] - 269s 168ms/step - loss: 0.1099 - acc: 0.9600 - val_loss: 0.8564 - val_acc: 0.8175\n",
            "Epoch 12/50\n",
            "1600/1600 [==============================] - 269s 168ms/step - loss: 0.1001 - acc: 0.9663 - val_loss: 0.5254 - val_acc: 0.8525\n",
            "Epoch 13/50\n",
            "1600/1600 [==============================] - 269s 168ms/step - loss: 0.0641 - acc: 0.9762 - val_loss: 1.2837 - val_acc: 0.7725\n",
            "Epoch 14/50\n",
            "1600/1600 [==============================] - 270s 169ms/step - loss: 0.0720 - acc: 0.9788 - val_loss: 1.5466 - val_acc: 0.7525\n",
            "Epoch 15/50\n",
            "1600/1600 [==============================] - 269s 168ms/step - loss: 0.0558 - acc: 0.9788 - val_loss: 1.0187 - val_acc: 0.7950\n"
          ],
          "name": "stdout"
        },
        {
          "output_type": "display_data",
          "data": {
            "image/png": "[encoded data removed]",
            "text/plain": [
              "<Figure size 432x288 with 1 Axes>"
            ]
          },
          "metadata": {
            "tags": []
          }
        }
      ]
    },
    {
      "cell_type": "markdown",
      "metadata": {
        "id": "xE09r09jJhaE",
        "colab_type": "text"
      },
      "source": [
        "### Compare the efficiency of SGD, Adam, and RMSProp optimizer"
      ]
    },
    {
      "cell_type": "code",
      "metadata": {
        "id": "CitiB_vp84Mk",
        "colab_type": "code",
        "outputId": "b14ac1b4-63cc-4c64-ff91-2b518cfe681b",
        "colab": {
          "base_uri": "https://localhost:8080/",
          "height": 549
        }
      },
      "source": [
        "model_sgd = build_model(input_shape, 'sgd')\n",
        "model_adam = build_model(input_shape, 'adam')\n",
        "model_rmsprop = build_model(input_shape, 'rmsprop')\n",
        "\n",
        "early_stop = keras.callbacks.EarlyStopping(monitor='val_acc', patience=3, restore_best_weights=True)\n",
        "\n",
        "history_sgd = model_sgd.fit(training_set, training_label, batch_size=batch_size, epochs=epochs, validation_split=0.2, callbacks=[early_stop])\n",
        "history_adam = model_adam.fit(training_set, training_label, batch_size=batch_size, epochs=epochs, validation_split=0.2, callbacks=[early_stop])\n",
        "history_rmsprop = model_rmsprop.fit(training_set, training_label, batch_size=batch_size, epochs=epochs, validation_split=0.2, callbacks=[early_stop])\n",
        "\n",
        "plot_comparison(history_sgd, history_adam, history_rmsprop)"
      ],
      "execution_count": 0,
      "outputs": [
        {
          "output_type": "display_data",
          "data": {
            "image/png": "[encoded data removed]",
            "text/plain": [
              "<Figure size 432x288 with 1 Axes>"
            ]
          },
          "metadata": {
            "tags": []
          }
        },
        {
          "output_type": "display_data",
          "data": {
            "image/png": "[encoded data removed]",
            "text/plain": [
              "<Figure size 432x288 with 1 Axes>"
            ]
          },
          "metadata": {
            "tags": []
          }
        }
      ]
    },
    {
      "cell_type": "code",
      "metadata": {
        "id": "ynbrY9iFNz27",
        "colab_type": "code",
        "colab": {}
      },
      "source": [
        "# model.save('./model1.h5')\n",
        "# plot_model(model, to_file='model.png')"
      ],
      "execution_count": 0,
      "outputs": []
    },
    {
      "cell_type": "markdown",
      "metadata": {
        "id": "JYYBJB_TKG4v",
        "colab_type": "text"
      },
      "source": [
        "## Evaluate the model and predict labels of testing set"
      ]
    },
    {
      "cell_type": "code",
      "metadata": {
        "id": "ZfL7j2zf0ndv",
        "colab_type": "code",
        "colab": {}
      },
      "source": [
        "model = keras.models.load_model('model1.h5')\n",
        "loss, acc = model.evaluate(testing_set, testing_label)\n",
        "print('The accuracy on testing set is %.2f.' % acc)\n",
        "\n",
        "start = time.time()\n",
        "predictions = model.predict(testing_set)\n",
        "end = time.time()\n",
        "average_prediction_time = (end - start) / len(predictions)\n",
        "print('The average detection time is %.2fs.' % average_prediction_time)\n",
        "\n",
        "\n",
        "predictions = np.around(predictions)\n",
        "predictions = predictions.flatten()"
      ],
      "execution_count": 0,
      "outputs": []
    },
    {
      "cell_type": "markdown",
      "metadata": {
        "id": "UCVUDt1RKV_Z",
        "colab_type": "text"
      },
      "source": [
        "### Calculate some metrics"
      ]
    },
    {
      "cell_type": "code",
      "metadata": {
        "id": "BS4p2WOl99D0",
        "colab_type": "code",
        "outputId": "403814cd-48ec-4fd7-d8c3-6ee9c7f13920",
        "colab": {
          "base_uri": "https://localhost:8080/",
          "height": 136
        }
      },
      "source": [
        "len(predictions)\n",
        "\n",
        "TP = np.sum(np.logical_and(predictions == 1, testing_label == 1))\n",
        "TN = np.sum(np.logical_and(predictions == 0, testing_label == 0))\n",
        "FP = np.sum(np.logical_and(predictions == 1, testing_label == 0))\n",
        "FN = np.sum(np.logical_and(predictions == 0, testing_label == 1))\n",
        "print('TP: %d, TN: %d, FP: %d, FN: %d' % (TP, TN, FP, FN))\n",
        "\n",
        "precision = TP / (TP + FP)\n",
        "recall = TP / (TP + FN)\n",
        "fpr = (FP) / (FP + TN)\n",
        "f1 = 2 * (precision*recall) / (precision+recall)\n",
        "print('The precision is {:.1%}.'.format(precision))\n",
        "print('The detection rate is {:.1%}.'.format(recall))\n",
        "print('The accuracy is {:.1%}.'.format(acc))\n",
        "print('The false positive rate is {:.1%}.'.format(fpr))\n",
        "print('The F1-score is {:.1%}.'.format(f1))\n",
        "\n",
        "print('The accuracy towards benign applications is {:.1%}'.format(TN / (TN + FP)))"
      ],
      "execution_count": 0,
      "outputs": [
        {
          "output_type": "stream",
          "text": [
            "TP: 217, TN: 337, FP: 49, FN: 43\n",
            "The precision is 81.6%.\n",
            "The detection rate is 83.5%.\n",
            "The accuracy is 85.8%.\n",
            "The false positive rate is 12.7%.\n",
            "The F1-score is 82.5%.\n",
            "The accuracy towards benign applications is 87.3%\n"
          ],
          "name": "stdout"
        }
      ]
    },
    {
      "cell_type": "markdown",
      "metadata": {
        "id": "7hBY2QW_KcG2",
        "colab_type": "text"
      },
      "source": [
        "### Predict labels of new unseen images"
      ]
    },
    {
      "cell_type": "code",
      "metadata": {
        "id": "Zqi_lQf1xdig",
        "colab_type": "code",
        "outputId": "fe2c39ca-a34b-49eb-c548-6d83190c9383",
        "colab": {
          "base_uri": "https://localhost:8080/",
          "height": 35
        }
      },
      "source": [
        "model = keras.models.load_model('model1.h5')\n",
        "os.system('unzip new_set.zip')"
      ],
      "execution_count": 0,
      "outputs": [
        {
          "output_type": "execute_result",
          "data": {
            "text/plain": [
              "256"
            ]
          },
          "metadata": {
            "tags": []
          },
          "execution_count": 5
        }
      ]
    },
    {
      "cell_type": "code",
      "metadata": {
        "id": "rjxtYmhzWFl0",
        "colab_type": "code",
        "outputId": "8270724a-ebc1-49fa-dc73-4f7048423f03",
        "colab": {
          "base_uri": "https://localhost:8080/",
          "height": 104
        }
      },
      "source": [
        "new_img_list = []\n",
        "for filename in os.listdir(r\"./new_set/\"):\n",
        "  img = cv2.imread('./new_set/' + filename, 1)\n",
        "  if img is None:\n",
        "    continue\n",
        "  \n",
        "  # resize to 300*300 size\n",
        "  img = cv2.resize(img, (300, 300)) \n",
        "  # normalize to 0~1\n",
        "  img = img / 255.0\n",
        "  new_img_list.append(img)\n",
        "\n",
        "new_img_list = np.array(new_img_list)\n",
        "\n",
        "print(new_img_list.shape)\n",
        "\n",
        "new_pred = model.predict(new_img_list)\n",
        "new_pred = np.around(new_pred)\n",
        "print(new_pred)"
      ],
      "execution_count": 0,
      "outputs": [
        {
          "output_type": "stream",
          "text": [
            "(4, 300, 300, 3)\n",
            "[[1.]\n",
            " [1.]\n",
            " [1.]\n",
            " [1.]]\n"
          ],
          "name": "stdout"
        }
      ]
    }
  ]
}